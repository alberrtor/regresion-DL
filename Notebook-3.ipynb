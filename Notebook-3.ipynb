{
 "cells": [
  {
   "cell_type": "code",
   "execution_count": 4,
   "id": "b1cdd212",
   "metadata": {},
   "outputs": [
    {
     "name": "stdout",
     "output_type": "stream",
     "text": [
      "El archivo new_house_data.csv ha sido generado.\n"
     ]
    }
   ],
   "source": [
    "import tensorflow as tf\n",
    "import pandas as pd\n",
    "\n",
    "# Crear un diccionario con los datos ficticios de nuevas casas\n",
    "data = {\n",
    "    'bedrooms': [3, 4, 2],  # Número de habitaciones\n",
    "    'bathrooms': [2, 3, 1],  # Número de baños\n",
    "    'sqft_living': [1800, 2400, 1500],  # Área habitable\n",
    "    'sqft_lot': [5000, 6000, 3000],  # Área total del terreno\n",
    "    'floors': [1.0, 2.0, 1.0],  # Número de pisos\n",
    "    'waterfront': [0, 1, 0],  # Si tiene frente de agua\n",
    "    'view': [0, 3, 1],  # Calidad de la vista\n",
    "    'condition': [3, 5, 4],  # Condición de la casa\n",
    "    'sqft_above': [1500, 2200, 1200],  # Área por encima del nivel del suelo\n",
    "    'sqft_basement': [300, 200, 300],  # Área del sótano\n",
    "    'yr_built': [1990, 1985, 2005],  # Año de construcción\n",
    "    'yr_renovated': [0, 2000, 0],  # Año de la última renovación\n",
    "    'city': ['Seattle', 'Bellevue', 'Redmond'],  # Ciudad\n",
    "    'statezip': ['WA 98105', 'WA 98004', 'WA 98052'],  # Estado y código postal\n",
    "}\n",
    "\n",
    "# Crear un DataFrame de pandas\n",
    "new_house_data = pd.DataFrame(data)\n",
    "\n",
    "# Guardar el DataFrame en un archivo CSV\n",
    "new_house_data.to_csv('new_house_data.csv', index=False)\n",
    "\n",
    "print(\"El archivo new_house_data.csv ha sido generado.\")"
   ]
  },
  {
   "cell_type": "code",
   "execution_count": 6,
   "id": "988e7862",
   "metadata": {},
   "outputs": [
    {
     "name": "stderr",
     "output_type": "stream",
     "text": [
      "WARNING:absl:Compiled the loaded model, but the compiled metrics have yet to be built. `model.compile_metrics` will be empty until you train or evaluate the model.\n"
     ]
    },
    {
     "name": "stdout",
     "output_type": "stream",
     "text": [
      "\u001b[1m1/1\u001b[0m \u001b[32m━━━━━━━━━━━━━━━━━━━━\u001b[0m\u001b[37m\u001b[0m \u001b[1m0s\u001b[0m 24ms/step\n",
      "Predicciones guardadas en 'predictions.csv'.\n"
     ]
    }
   ],
   "source": [
    "import tensorflow as tf\n",
    "import pandas as pd\n",
    "import joblib\n",
    "\n",
    "# Cargar el modelo entrenado\n",
    "model = tf.keras.models.load_model('house_price_model.h5')\n",
    "\n",
    "# Cargar los nuevos datos\n",
    "new_data = pd.read_csv('new_house_data.csv')\n",
    "\n",
    "# Verificar si las columnas 'street' y 'country' existen antes de eliminarlas\n",
    "columns_to_drop = ['street', 'country']\n",
    "new_data = new_data.drop(columns=[col for col in columns_to_drop if col in new_data.columns])\n",
    "\n",
    "# Cargar el encoder y el scaler utilizados durante el entrenamiento\n",
    "encoder = joblib.load('encoder.pkl')\n",
    "scaler = joblib.load('scaler.pkl')\n",
    "\n",
    "# Aplicar la codificación a las columnas categóricas\n",
    "categorical_cols = ['city', 'statezip']\n",
    "encoded_cats = pd.DataFrame(encoder.transform(new_data[categorical_cols]), columns=encoder.get_feature_names_out(categorical_cols))\n",
    "\n",
    "# Aplicar la normalización a las columnas numéricas\n",
    "numerical_cols = ['bedrooms', 'bathrooms', 'sqft_living', 'sqft_lot', 'floors', 'waterfront', 'view', \n",
    "                  'condition', 'sqft_above', 'sqft_basement', 'yr_built', 'yr_renovated']\n",
    "scaled_nums = pd.DataFrame(scaler.transform(new_data[numerical_cols]), columns=numerical_cols)\n",
    "\n",
    "# Concatenar los datos codificados y normalizados\n",
    "processed_data = pd.concat([scaled_nums, encoded_cats], axis=1)\n",
    "\n",
    "# Generar predicciones\n",
    "predictions = model.predict(processed_data)\n",
    "\n",
    "# Guardar las predicciones\n",
    "pd.DataFrame(predictions, columns=['PredictedPrice']).to_csv('predictions.csv', index=False)\n",
    "\n",
    "print(\"Predicciones guardadas en 'predictions.csv'.\")\n"
   ]
  },
  {
   "cell_type": "code",
   "execution_count": null,
   "id": "f11f066b",
   "metadata": {},
   "outputs": [],
   "source": []
  }
 ],
 "metadata": {
  "kernelspec": {
   "display_name": "Python 3 (ipykernel)",
   "language": "python",
   "name": "python3"
  },
  "language_info": {
   "codemirror_mode": {
    "name": "ipython",
    "version": 3
   },
   "file_extension": ".py",
   "mimetype": "text/x-python",
   "name": "python",
   "nbconvert_exporter": "python",
   "pygments_lexer": "ipython3",
   "version": "3.9.20"
  }
 },
 "nbformat": 4,
 "nbformat_minor": 5
}
