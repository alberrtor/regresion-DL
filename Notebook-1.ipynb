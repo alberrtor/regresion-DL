{
 "cells": [
  {
   "cell_type": "code",
   "execution_count": 4,
   "id": "580532fe-1984-4547-82cb-a28eaea13b0d",
   "metadata": {},
   "outputs": [],
   "source": [
    "import pandas as pd\n",
    "from sklearn.preprocessing import OneHotEncoder, StandardScaler\n",
    "import joblib\n",
    "\n",
    "def process_data(file_path):\n",
    "    # Cargar el dataset\n",
    "    data = pd.read_csv(file_path)\n",
    "    \n",
    "    # Eliminar columnas irrelevantes\n",
    "    data = data.drop(['date', 'street', 'country'], axis=1)\n",
    "    \n",
    "    # Codificar variables categóricas (city, statezip)\n",
    "    encoder = OneHotEncoder(sparse_output=False)\n",
    "    categorical_cols = ['city', 'statezip']\n",
    "    encoded_cats = pd.DataFrame(encoder.fit_transform(data[categorical_cols]), columns=encoder.get_feature_names_out(categorical_cols))\n",
    "    \n",
    "    # Guardar el encoder para usarlo más tarde en la inferencia\n",
    "    joblib.dump(encoder, 'encoder.pkl')\n",
    "    \n",
    "    # Normalizar las columnas numéricas\n",
    "    numerical_cols = ['bedrooms', 'bathrooms', 'sqft_living', 'sqft_lot', 'floors', 'waterfront', 'view', \n",
    "                      'condition', 'sqft_above', 'sqft_basement', 'yr_built', 'yr_renovated']\n",
    "    scaler = StandardScaler()\n",
    "    scaled_nums = pd.DataFrame(scaler.fit_transform(data[numerical_cols]), columns=numerical_cols)\n",
    "    \n",
    "    # Guardar el scaler para usarlo más tarde en la inferencia\n",
    "    joblib.dump(scaler, 'scaler.pkl')\n",
    "    \n",
    "    # Concatenar las columnas numéricas y categóricas procesadas\n",
    "    features = pd.concat([scaled_nums, encoded_cats], axis=1)\n",
    "    targets = data['price']\n",
    "    \n",
    "    return features, targets\n",
    "\n",
    "# Procesar y guardar las características\n",
    "features, targets = process_data('USA Housing Dataset.csv')\n",
    "features.to_csv('processed_features.csv', index=False)\n",
    "targets.to_csv('processed_targets.csv', index=False)\n"
   ]
  },
  {
   "cell_type": "code",
   "execution_count": null,
   "id": "9d153fb7",
   "metadata": {},
   "outputs": [],
   "source": []
  }
 ],
 "metadata": {
  "kernelspec": {
   "display_name": "Python 3 (ipykernel)",
   "language": "python",
   "name": "python3"
  },
  "language_info": {
   "codemirror_mode": {
    "name": "ipython",
    "version": 3
   },
   "file_extension": ".py",
   "mimetype": "text/x-python",
   "name": "python",
   "nbconvert_exporter": "python",
   "pygments_lexer": "ipython3",
   "version": "3.9.20"
  }
 },
 "nbformat": 4,
 "nbformat_minor": 5
}
